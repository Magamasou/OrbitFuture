{
 "cells": [
  {
   "cell_type": "markdown",
   "id": "a7315bd2",
   "metadata": {},
   "source": [
    "#  Variabel"
   ]
  },
  {
   "cell_type": "code",
   "execution_count": 2,
   "id": "9fcab93c",
   "metadata": {},
   "outputs": [],
   "source": [
    "pi = 3.14"
   ]
  },
  {
   "cell_type": "code",
   "execution_count": 3,
   "id": "f1ce0d72",
   "metadata": {},
   "outputs": [
    {
     "name": "stdout",
     "output_type": "stream",
     "text": [
      "3.14\n"
     ]
    }
   ],
   "source": [
    "print (pi)"
   ]
  },
  {
   "cell_type": "code",
   "execution_count": 4,
   "id": "a5e6c2f2",
   "metadata": {},
   "outputs": [],
   "source": [
    "kata_favorit = \"Indonesia Bisa\""
   ]
  },
  {
   "cell_type": "code",
   "execution_count": 5,
   "id": "35782df1",
   "metadata": {},
   "outputs": [
    {
     "name": "stdout",
     "output_type": "stream",
     "text": [
      "Indonesia Bisa\n"
     ]
    }
   ],
   "source": [
    "print (kata_favorit)"
   ]
  },
  {
   "cell_type": "markdown",
   "id": "5a9773fc",
   "metadata": {},
   "source": [
    "# Memotong String"
   ]
  },
  {
   "cell_type": "code",
   "execution_count": 5,
   "id": "22672cfc",
   "metadata": {},
   "outputs": [],
   "source": [
    "kata = \"Angka float pada pi : 0.314\""
   ]
  },
  {
   "cell_type": "code",
   "execution_count": 9,
   "id": "c191ef2e",
   "metadata": {},
   "outputs": [
    {
     "name": "stdout",
     "output_type": "stream",
     "text": [
      "float \n"
     ]
    }
   ],
   "source": [
    "print(kata[6:12])"
   ]
  },
  {
   "cell_type": "code",
   "execution_count": 12,
   "id": "62b65037",
   "metadata": {},
   "outputs": [],
   "source": [
    "buah = \"rambutan\""
   ]
  },
  {
   "cell_type": "code",
   "execution_count": 14,
   "id": "13d624db",
   "metadata": {},
   "outputs": [
    {
     "name": "stdout",
     "output_type": "stream",
     "text": [
      "ram\n"
     ]
    }
   ],
   "source": [
    "print (buah [0:3])"
   ]
  },
  {
   "cell_type": "code",
   "execution_count": 17,
   "id": "19b1759c",
   "metadata": {},
   "outputs": [
    {
     "name": "stdout",
     "output_type": "stream",
     "text": [
      "butan\n"
     ]
    }
   ],
   "source": [
    "print (buah [3:8])"
   ]
  },
  {
   "cell_type": "code",
   "execution_count": 20,
   "id": "0fe068ef",
   "metadata": {},
   "outputs": [
    {
     "name": "stdout",
     "output_type": "stream",
     "text": [
      "butan\n"
     ]
    }
   ],
   "source": [
    "print (buah [3:])"
   ]
  },
  {
   "cell_type": "code",
   "execution_count": 25,
   "id": "86a99623",
   "metadata": {},
   "outputs": [
    {
     "name": "stdout",
     "output_type": "stream",
     "text": [
      "22\n"
     ]
    }
   ],
   "source": [
    "print (kata.find(\"0.314\"))"
   ]
  },
  {
   "cell_type": "code",
   "execution_count": 24,
   "id": "9b8fa2e1",
   "metadata": {},
   "outputs": [
    {
     "name": "stdout",
     "output_type": "stream",
     "text": [
      "0.314\n"
     ]
    }
   ],
   "source": [
    "x = \"0.314\"\n",
    "print (float(x))"
   ]
  },
  {
   "cell_type": "code",
   "execution_count": 18,
   "id": "48d7aa75",
   "metadata": {},
   "outputs": [
    {
     "name": "stdout",
     "output_type": "stream",
     "text": [
      " 0.314\n"
     ]
    }
   ],
   "source": [
    "print (kata [21:])"
   ]
  },
  {
   "cell_type": "markdown",
   "id": "332c6f0e",
   "metadata": {},
   "source": [
    "# Modifikasi String"
   ]
  },
  {
   "cell_type": "code",
   "execution_count": 2,
   "id": "7fb08d6c",
   "metadata": {},
   "outputs": [],
   "source": [
    "coba = \"bali\""
   ]
  },
  {
   "cell_type": "code",
   "execution_count": 26,
   "id": "3c95a754",
   "metadata": {},
   "outputs": [
    {
     "name": "stdout",
     "output_type": "stream",
     "text": [
      "Bali\n"
     ]
    }
   ],
   "source": [
    "print (coba.capitalize())"
   ]
  },
  {
   "cell_type": "code",
   "execution_count": 27,
   "id": "671c4261",
   "metadata": {},
   "outputs": [
    {
     "name": "stdout",
     "output_type": "stream",
     "text": [
      "BALI\n"
     ]
    }
   ],
   "source": [
    "print (coba.upper())"
   ]
  },
  {
   "cell_type": "code",
   "execution_count": 3,
   "id": "9fd4b6a6",
   "metadata": {},
   "outputs": [
    {
     "name": "stdout",
     "output_type": "stream",
     "text": [
      "bali\n"
     ]
    }
   ],
   "source": [
    "print (coba)"
   ]
  },
  {
   "cell_type": "code",
   "execution_count": 12,
   "id": "6e802efe",
   "metadata": {},
   "outputs": [
    {
     "name": "stdout",
     "output_type": "stream",
     "text": [
      "  bali \n"
     ]
    }
   ],
   "source": [
    "print (coba.center(7))"
   ]
  },
  {
   "cell_type": "code",
   "execution_count": 15,
   "id": "81064085",
   "metadata": {},
   "outputs": [
    {
     "name": "stdout",
     "output_type": "stream",
     "text": [
      "ba li\n"
     ]
    }
   ],
   "source": [
    "coba1 = \"ba\\tli\"\n",
    "print (coba1.expandtabs(3))"
   ]
  },
  {
   "cell_type": "code",
   "execution_count": 18,
   "id": "b2cb61ca",
   "metadata": {},
   "outputs": [
    {
     "name": "stdout",
     "output_type": "stream",
     "text": [
      "bakpi\n"
     ]
    }
   ],
   "source": [
    "print (coba.replace(\"l\",\"kp\"))"
   ]
  },
  {
   "cell_type": "code",
   "execution_count": 21,
   "id": "9bd5fd8d",
   "metadata": {},
   "outputs": [],
   "source": [
    "kata = '  monas'"
   ]
  },
  {
   "cell_type": "code",
   "execution_count": 24,
   "id": "24f4eb37",
   "metadata": {},
   "outputs": [
    {
     "name": "stdout",
     "output_type": "stream",
     "text": [
      "monas\n"
     ]
    }
   ],
   "source": [
    "print (kata.strip())"
   ]
  },
  {
   "cell_type": "markdown",
   "id": "57bdb46a",
   "metadata": {},
   "source": [
    "# Menggabungkan String"
   ]
  },
  {
   "cell_type": "code",
   "execution_count": 25,
   "id": "e55bc5bd",
   "metadata": {},
   "outputs": [],
   "source": [
    "kata1 = \"buah\"\n",
    "kata2 = \"mangga\""
   ]
  },
  {
   "cell_type": "code",
   "execution_count": 28,
   "id": "9e40d454",
   "metadata": {},
   "outputs": [
    {
     "name": "stdout",
     "output_type": "stream",
     "text": [
      "buah mangga\n"
     ]
    }
   ],
   "source": [
    "print (kata1+\" \"+kata2)"
   ]
  },
  {
   "cell_type": "code",
   "execution_count": null,
   "id": "ddcc8026",
   "metadata": {},
   "outputs": [],
   "source": [
    "nama = input(\"Masukkan nama\")\n",
    "print (\"Nama saya (0)\".format (nama))"
   ]
  },
  {
   "cell_type": "markdown",
   "id": "763e9ef0",
   "metadata": {},
   "source": [
    "# Metod String"
   ]
  },
  {
   "cell_type": "code",
   "execution_count": 2,
   "id": "4e1593de",
   "metadata": {},
   "outputs": [],
   "source": [
    "txt = \"Sempat-sempatnya semut-semut itu saling senyumsenyum dan salam-salaman sama semut-semut yang mau senyum-senyum dan salam-salaman sama semut-semut itu\""
   ]
  },
  {
   "cell_type": "code",
   "execution_count": 3,
   "id": "304434a2",
   "metadata": {},
   "outputs": [
    {
     "name": "stdout",
     "output_type": "stream",
     "text": [
      "6\n"
     ]
    }
   ],
   "source": [
    "print (txt.count(\"semut\"))"
   ]
  },
  {
   "cell_type": "code",
   "execution_count": 5,
   "id": "5aa21da4",
   "metadata": {},
   "outputs": [],
   "source": [
    "txt1 = \"Saya suka sama suami situ sebab dia situ suka senyumsenyum sama saya.\""
   ]
  },
  {
   "cell_type": "code",
   "execution_count": 7,
   "id": "48f70e5e",
   "metadata": {},
   "outputs": [
    {
     "name": "stdout",
     "output_type": "stream",
     "text": [
      "15\n"
     ]
    }
   ],
   "source": [
    "print (txt1.find(\"suami\"))"
   ]
  },
  {
   "cell_type": "code",
   "execution_count": null,
   "id": "d79824ac",
   "metadata": {},
   "outputs": [],
   "source": []
  }
 ],
 "metadata": {
  "kernelspec": {
   "display_name": "Python 3 (ipykernel)",
   "language": "python",
   "name": "python3"
  },
  "language_info": {
   "codemirror_mode": {
    "name": "ipython",
    "version": 3
   },
   "file_extension": ".py",
   "mimetype": "text/x-python",
   "name": "python",
   "nbconvert_exporter": "python",
   "pygments_lexer": "ipython3",
   "version": "3.9.7"
  }
 },
 "nbformat": 4,
 "nbformat_minor": 5
}
