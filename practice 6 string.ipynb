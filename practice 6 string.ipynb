{
 "cells": [
  {
   "cell_type": "markdown",
   "id": "575eece8",
   "metadata": {},
   "source": [
    "## variabel\n"
   ]
  },
  {
   "cell_type": "code",
   "execution_count": 1,
   "id": "77a3ff4b",
   "metadata": {},
   "outputs": [],
   "source": [
    "pi = 3.14"
   ]
  },
  {
   "cell_type": "code",
   "execution_count": 2,
   "id": "0bd1019c",
   "metadata": {},
   "outputs": [
    {
     "name": "stdout",
     "output_type": "stream",
     "text": [
      "3.14\n"
     ]
    }
   ],
   "source": [
    "print(pi)"
   ]
  },
  {
   "cell_type": "code",
   "execution_count": 3,
   "id": "dfa6c99a",
   "metadata": {},
   "outputs": [],
   "source": [
    "kata_favorit =\"indonesia bisa\""
   ]
  },
  {
   "cell_type": "code",
   "execution_count": 4,
   "id": "58f613a4",
   "metadata": {},
   "outputs": [
    {
     "name": "stdout",
     "output_type": "stream",
     "text": [
      "indonesia bisa\n"
     ]
    }
   ],
   "source": [
    "print (kata_favorit)"
   ]
  },
  {
   "cell_type": "markdown",
   "id": "eb148ff4",
   "metadata": {},
   "source": [
    "## memotong string"
   ]
  },
  {
   "cell_type": "code",
   "execution_count": 5,
   "id": "3cd436f9",
   "metadata": {},
   "outputs": [],
   "source": [
    "kata = \"Angka float pada PI: 0.314\""
   ]
  },
  {
   "cell_type": "code",
   "execution_count": 10,
   "id": "5412ab52",
   "metadata": {},
   "outputs": [],
   "source": [
    "bag_float = kata[6:11]"
   ]
  },
  {
   "cell_type": "code",
   "execution_count": 11,
   "id": "ed5b6a80",
   "metadata": {},
   "outputs": [
    {
     "name": "stdout",
     "output_type": "stream",
     "text": [
      "float\n"
     ]
    }
   ],
   "source": [
    "print(bag_float)"
   ]
  },
  {
   "cell_type": "code",
   "execution_count": 12,
   "id": "960e26e3",
   "metadata": {},
   "outputs": [],
   "source": [
    "buah =\"rambutan\""
   ]
  },
  {
   "cell_type": "code",
   "execution_count": 19,
   "id": "cf16a0db",
   "metadata": {},
   "outputs": [],
   "source": [
    "x = buah[0:3]"
   ]
  },
  {
   "cell_type": "code",
   "execution_count": 22,
   "id": "d6239716",
   "metadata": {},
   "outputs": [],
   "source": [
    "ram2 = buah[3:9]"
   ]
  },
  {
   "cell_type": "code",
   "execution_count": 23,
   "id": "95a23eda",
   "metadata": {},
   "outputs": [
    {
     "name": "stdout",
     "output_type": "stream",
     "text": [
      "butan\n"
     ]
    }
   ],
   "source": [
    "print (ram2)"
   ]
  },
  {
   "cell_type": "code",
   "execution_count": 17,
   "id": "6bfd049e",
   "metadata": {},
   "outputs": [
    {
     "name": "stdout",
     "output_type": "stream",
     "text": [
      "ram\n"
     ]
    }
   ],
   "source": [
    "print(x)"
   ]
  },
  {
   "cell_type": "markdown",
   "id": "240f59e8",
   "metadata": {},
   "source": [
    "# modifikasi String"
   ]
  },
  {
   "cell_type": "code",
   "execution_count": 28,
   "id": "53499d5e",
   "metadata": {},
   "outputs": [],
   "source": [
    "coba = \"bali\""
   ]
  },
  {
   "cell_type": "code",
   "execution_count": 29,
   "id": "3780e4dd",
   "metadata": {},
   "outputs": [],
   "source": [
    "kataBesar = coba.upper()"
   ]
  },
  {
   "cell_type": "code",
   "execution_count": 30,
   "id": "fee085f2",
   "metadata": {},
   "outputs": [
    {
     "name": "stdout",
     "output_type": "stream",
     "text": [
      "BALI\n"
     ]
    }
   ],
   "source": [
    "print(kataBesar)"
   ]
  },
  {
   "cell_type": "code",
   "execution_count": 31,
   "id": "42c802a8",
   "metadata": {},
   "outputs": [],
   "source": [
    "coba1 =\"   bali\""
   ]
  },
  {
   "cell_type": "code",
   "execution_count": 32,
   "id": "e66e10b4",
   "metadata": {},
   "outputs": [
    {
     "name": "stdout",
     "output_type": "stream",
     "text": [
      "   bali\n"
     ]
    }
   ],
   "source": [
    "print (coba1)"
   ]
  },
  {
   "cell_type": "code",
   "execution_count": 33,
   "id": "cc85fa49",
   "metadata": {},
   "outputs": [
    {
     "name": "stdout",
     "output_type": "stream",
     "text": [
      "balkp\n"
     ]
    }
   ],
   "source": [
    "print(coba.replace(\"i\",\"kp\"))"
   ]
  },
  {
   "cell_type": "code",
   "execution_count": 34,
   "id": "c8895dc2",
   "metadata": {},
   "outputs": [],
   "source": [
    "kata =\"   monas\""
   ]
  },
  {
   "cell_type": "code",
   "execution_count": 35,
   "id": "9cf9fbfd",
   "metadata": {},
   "outputs": [
    {
     "name": "stdout",
     "output_type": "stream",
     "text": [
      "monas\n"
     ]
    }
   ],
   "source": [
    "print(kata.strip())"
   ]
  },
  {
   "cell_type": "markdown",
   "id": "5aae4dfb",
   "metadata": {},
   "source": [
    "# menggabungkan String"
   ]
  },
  {
   "cell_type": "code",
   "execution_count": 36,
   "id": "ed0fa2d3",
   "metadata": {},
   "outputs": [],
   "source": [
    "kata1 =\"buah\"\n",
    "kata2 =\"mangga\""
   ]
  },
  {
   "cell_type": "code",
   "execution_count": 37,
   "id": "bf9b13ac",
   "metadata": {},
   "outputs": [],
   "source": [
    "kata3 = kata1+\" \"+kata2"
   ]
  },
  {
   "cell_type": "code",
   "execution_count": 38,
   "id": "dccecf92",
   "metadata": {},
   "outputs": [
    {
     "name": "stdout",
     "output_type": "stream",
     "text": [
      "buah mangga\n"
     ]
    }
   ],
   "source": [
    "print (kata3)"
   ]
  },
  {
   "cell_type": "markdown",
   "id": "68f6cbd2",
   "metadata": {},
   "source": [
    "## format string"
   ]
  },
  {
   "cell_type": "code",
   "execution_count": 39,
   "id": "40aad7f0",
   "metadata": {},
   "outputs": [
    {
     "name": "stdout",
     "output_type": "stream",
     "text": [
      "masukkan namarizki hidayatullah\n"
     ]
    }
   ],
   "source": [
    "nama = input(\"masukkan nama\")"
   ]
  },
  {
   "cell_type": "code",
   "execution_count": 40,
   "id": "9a5d20cd",
   "metadata": {},
   "outputs": [
    {
     "name": "stdout",
     "output_type": "stream",
     "text": [
      "<class 'str'>\n"
     ]
    }
   ],
   "source": [
    "print (str)"
   ]
  },
  {
   "cell_type": "markdown",
   "id": "e935aca7",
   "metadata": {},
   "source": [
    "## methode string"
   ]
  },
  {
   "cell_type": "markdown",
   "id": "000c4201",
   "metadata": {},
   "source": [
    "# Tuliskan fungsi string untuk memunculkan jumlah kemunculan semut\n"
   ]
  },
  {
   "cell_type": "code",
   "execution_count": 1,
   "id": "4b00c5cf",
   "metadata": {},
   "outputs": [],
   "source": [
    "txt = \"Sempat-sempatnya semut semut itu saling senyumsenyum dan salam-salaman sama semut-semut yang mau senyum-senyum dan salam-salaman sama semut-semut itu\""
   ]
  },
  {
   "cell_type": "code",
   "execution_count": 2,
   "id": "fabaa3ce",
   "metadata": {},
   "outputs": [
    {
     "name": "stdout",
     "output_type": "stream",
     "text": [
      "jumlah('semut'): 6\n"
     ]
    }
   ],
   "source": [
    "print(\"jumlah('semut'):\",txt.count(\"semut\"))"
   ]
  },
  {
   "cell_type": "markdown",
   "id": "2071bf2f",
   "metadata": {},
   "source": [
    "# Tuliskan fungsi string untuk mencari kata suami dan mengelompokkan menjadi sebuah tuple dan tampilkan panjang dari tuple tersebut\n"
   ]
  },
  {
   "cell_type": "code",
   "execution_count": 3,
   "id": "f6f915d4",
   "metadata": {},
   "outputs": [],
   "source": [
    "txt =\"Saya suka sama suami itu sebab dia situ suka senyumsenyum sama saya\""
   ]
  },
  {
   "cell_type": "code",
   "execution_count": 5,
   "id": "c1e1a8a3",
   "metadata": {},
   "outputs": [
    {
     "name": "stdout",
     "output_type": "stream",
     "text": [
      "15\n"
     ]
    }
   ],
   "source": [
    "print(txt.find(\"suami\"))"
   ]
  },
  {
   "cell_type": "code",
   "execution_count": 6,
   "id": "950a6606",
   "metadata": {},
   "outputs": [
    {
     "name": "stdout",
     "output_type": "stream",
     "text": [
      "('s', 'u', 'a', 'm', 'i')\n"
     ]
    }
   ],
   "source": [
    "print(tuple(\"suami\"))"
   ]
  },
  {
   "cell_type": "code",
   "execution_count": 7,
   "id": "ea3d6dbb",
   "metadata": {},
   "outputs": [
    {
     "name": "stdout",
     "output_type": "stream",
     "text": [
      "5\n"
     ]
    }
   ],
   "source": [
    "print(len(tuple(\"suami\")))"
   ]
  },
  {
   "cell_type": "code",
   "execution_count": null,
   "id": "62e31669",
   "metadata": {},
   "outputs": [],
   "source": []
  },
  {
   "cell_type": "code",
   "execution_count": null,
   "id": "7f498895",
   "metadata": {},
   "outputs": [],
   "source": []
  }
 ],
 "metadata": {
  "kernelspec": {
   "display_name": "Python 3 (ipykernel)",
   "language": "python",
   "name": "python3"
  },
  "language_info": {
   "codemirror_mode": {
    "name": "ipython",
    "version": 3
   },
   "file_extension": ".py",
   "mimetype": "text/x-python",
   "name": "python",
   "nbconvert_exporter": "python",
   "pygments_lexer": "ipython3",
   "version": "3.9.7"
  }
 },
 "nbformat": 4,
 "nbformat_minor": 5
}
